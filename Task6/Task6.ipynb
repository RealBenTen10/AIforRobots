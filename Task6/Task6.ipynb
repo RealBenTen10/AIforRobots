{
 "cells": [
  {
   "cell_type": "code",
   "id": "initial_id",
   "metadata": {
    "collapsed": true,
    "jupyter": {
     "is_executing": true
    }
   },
   "source": [
    "import subprocess\n",
    "import time\n",
    "\n",
    "# Command to run\n",
    "command = [\"ros2\", \"topic\", \"echo\", \"/ir_intensity\"]\n",
    "\n",
    "# Open the output file\n",
    "with open(\"data.txt\", \"w\") as output_file:\n",
    "    # Start the subprocess\n",
    "    process = subprocess.Popen(command, stdout=output_file, stderr=subprocess.STDOUT)\n",
    "\n",
    "    try:\n",
    "        # Let it run for 10 seconds\n",
    "        time.sleep(10)\n",
    "    finally:\n",
    "        # Terminate the process\n",
    "        process.terminate()\n",
    "        # Wait for it to fully exit\n",
    "        process.wait()\n",
    "\n",
    "print(\"Data collection stopped after 10 seconds.\")\n"
   ],
   "outputs": [],
   "execution_count": null
  },
  {
   "metadata": {},
   "cell_type": "code",
   "outputs": [],
   "execution_count": null,
   "source": "",
   "id": "15b62e7d28347de9"
  }
 ],
 "metadata": {
  "kernelspec": {
   "display_name": "Python 3",
   "language": "python",
   "name": "python3"
  },
  "language_info": {
   "codemirror_mode": {
    "name": "ipython",
    "version": 2
   },
   "file_extension": ".py",
   "mimetype": "text/x-python",
   "name": "python",
   "nbconvert_exporter": "python",
   "pygments_lexer": "ipython2",
   "version": "2.7.6"
  }
 },
 "nbformat": 4,
 "nbformat_minor": 5
}
