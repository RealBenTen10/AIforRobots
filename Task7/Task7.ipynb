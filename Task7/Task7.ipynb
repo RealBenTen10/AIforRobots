{
 "cells": [
  {
   "cell_type": "code",
   "id": "initial_id",
   "metadata": {
    "collapsed": true,
    "ExecuteTime": {
     "end_time": "2025-06-10T09:45:11.989074Z",
     "start_time": "2025-06-10T09:45:11.649573Z"
    }
   },
   "source": [
    "from time import sleep\n",
    "\n",
    "import numpy as np\n",
    "from matplotlib import pyplot as plt\n",
    "import random\n",
    "import time\n",
    "from matplotlib.animation import FuncAnimation"
   ],
   "outputs": [],
   "execution_count": 2
  },
  {
   "metadata": {
    "ExecuteTime": {
     "end_time": "2025-06-10T09:45:12.008345Z",
     "start_time": "2025-06-10T09:45:12.001622Z"
    }
   },
   "cell_type": "code",
   "source": [
    "class Robot:\n",
    "    def __init__(self, b=1.0, velocity_noise=False, odometry_noise=False,\n",
    "                 sigma_right=0.01, sigma_left=0.01, drive_in_circles=False):\n",
    "        self.axis_length = b\n",
    "        self.velocity_noise = velocity_noise\n",
    "        self.odometry_noise = odometry_noise\n",
    "        self.sigma_right = sigma_right\n",
    "        self.sigma_left = sigma_left\n",
    "        self.drive_in_circles = drive_in_circles\n",
    "\n",
    "        self.velocity = [1.0, 1.0]  # [v_l, v_r]\n",
    "        self.true_state = [0.0, 0.0, 0.0]\n",
    "        self.estimated_state = [0.0, 0.0, 0.0]\n",
    "\n",
    "        self.true_trajectory = []\n",
    "        self.odometry_trajectory = []\n",
    "\n",
    "    def _get_noisy_velocity(self):\n",
    "        if self.drive_in_circles:\n",
    "            self.velocity = [1.0, 0.5]\n",
    "\n",
    "        if self.velocity_noise:\n",
    "            v_l = self.velocity[0] + np.random.normal(0, self.sigma_left)\n",
    "            v_r = self.velocity[1] + np.random.normal(0, self.sigma_right)\n",
    "        else:\n",
    "            v_l, v_r = self.velocity\n",
    "\n",
    "        self.noisy_velocity = [v_l, v_r]\n",
    "\n",
    "    def move(self, dt=1.0):\n",
    "        self._get_noisy_velocity()\n",
    "        v_l, v_r = self.noisy_velocity\n",
    "        theta = self.true_state[2]\n",
    "\n",
    "        delta_x = 0.5 * (np.cos(theta) * v_l + np.cos(theta) * v_r) * dt\n",
    "        delta_y = 0.5 * (np.sin(theta) * v_l + np.sin(theta) * v_r) * dt\n",
    "        delta_theta = ((v_l - v_r) / self.axis_length) * dt\n",
    "\n",
    "        prev_true_state = self.true_state.copy()\n",
    "        self.true_state[0] += delta_x\n",
    "        self.true_state[1] += delta_y\n",
    "        self.true_state[2] += delta_theta\n",
    "        if self.true_state[2] > 360 or self.true_state[2] < 0:\n",
    "            print(self.true_state)\n",
    "\n",
    "        self._update_odometry(prev_true_state)\n",
    "        self._log_trajectory()\n",
    "\n",
    "    def _update_odometry(self, prev_true_state):\n",
    "        delta_x = self.true_state[0] - prev_true_state[0]\n",
    "        delta_y = self.true_state[1] - prev_true_state[1]\n",
    "        delta_theta = self.true_state[2] - prev_true_state[2]\n",
    "\n",
    "        if self.odometry_noise:\n",
    "            delta_x += np.random.normal(0, 0.01)\n",
    "            delta_y += np.random.normal(0, 0.01)\n",
    "            delta_theta += np.random.normal(0, 0.01)\n",
    "\n",
    "        self.estimated_state[0] += delta_x\n",
    "        self.estimated_state[1] += delta_y\n",
    "        self.estimated_state[2] += delta_theta\n",
    "\n",
    "    def _log_trajectory(self):\n",
    "        self.true_trajectory.append((self.true_state[0], self.true_state[1]))\n",
    "        self.odometry_trajectory.append((self.estimated_state[0], self.estimated_state[1]))\n"
   ],
   "id": "454db2b3327f3cd5",
   "outputs": [],
   "execution_count": 3
  },
  {
   "metadata": {
    "ExecuteTime": {
     "end_time": "2025-06-10T09:45:12.054511Z",
     "start_time": "2025-06-10T09:45:12.048263Z"
    }
   },
   "cell_type": "code",
   "source": [
    "from os import wait\n",
    "\n",
    "\n",
    "def animate_robots(num_robots=5, steps=100, interval=100,\n",
    "                   velocity_noise=True, odometry_noise=False,\n",
    "                   drive_in_circles=False):\n",
    "    robots = [Robot(velocity_noise=velocity_noise,\n",
    "                    odometry_noise=odometry_noise,\n",
    "                    drive_in_circles=drive_in_circles,\n",
    "                    sigma_left=0.05,\n",
    "                    sigma_right=0.05)\n",
    "              for _ in range(num_robots)]\n",
    "\n",
    "    fig, ax = plt.subplots(figsize=(8, 8))\n",
    "    ax.set_xlim(-10, 60)\n",
    "    ax.set_ylim(-30, 30)\n",
    "    ax.set_aspect('equal')\n",
    "    ax.set_title(\"Real-time Robot Simulation\")\n",
    "\n",
    "    # Each robot has: a trajectory line and an orientation arrow\n",
    "    trajectory_lines = [ax.plot([], [], label=f\"Robot {i+1}\")[0] for i in range(num_robots)]\n",
    "    robot_heads = [ax.arrow(0, 0, 0, 0, head_width=0.4, color=trajectory_lines[i].get_color())\n",
    "                   for i in range(num_robots)]\n",
    "\n",
    "    def init():\n",
    "        for line in trajectory_lines:\n",
    "            line.set_data([], [])\n",
    "        return trajectory_lines + robot_heads\n",
    "\n",
    "    def update():\n",
    "        print(\"hi\")\n",
    "        for i, bot in enumerate(robots):\n",
    "            bot.move()\n",
    "\n",
    "            traj = np.array(bot.odometry_trajectory)\n",
    "            # print(\"Traj: \", traj)\n",
    "            trajectory_lines[i].set_data(traj[:, 0], traj[:, 1])\n",
    "\n",
    "            # Update arrow\n",
    "            if len(traj) > 0:\n",
    "                x, y, theta = bot.estimated_state\n",
    "                arrow = robot_heads[i]\n",
    "                arrow.remove()\n",
    "                dx = 1.0 * np.cos(theta)\n",
    "                dy = 1.0 * np.sin(theta)\n",
    "                robot_heads[i] = ax.arrow(x, y, dx, dy, head_width=0.4, color=trajectory_lines[i].get_color())\n",
    "\n",
    "        return trajectory_lines + robot_heads\n",
    "\n",
    "    ani = FuncAnimation(fig, update(), frames=steps, init_func=init(),\n",
    "                        interval=interval, blit=False, repeat=False)\n",
    "    plt.legend()\n",
    "    plt.show()\n",
    "    return ani\n"
   ],
   "id": "8da63832ced7ee1b",
   "outputs": [],
   "execution_count": 4
  },
  {
   "metadata": {
    "ExecuteTime": {
     "end_time": "2025-06-10T09:45:12.284004Z",
     "start_time": "2025-06-10T09:45:12.126080Z"
    }
   },
   "cell_type": "code",
   "source": [
    "# --- Run the animation ---\n",
    "\n",
    "ani = animate_robots(\n",
    "    num_robots=5,\n",
    "    steps=10,\n",
    "    interval=1,  # ms between frames\n",
    "    velocity_noise=True,\n",
    "    odometry_noise=False,\n",
    "    drive_in_circles=True  # Toggle to False for straight motion\n",
    ")"
   ],
   "id": "fdd4f74a4d5da6d",
   "outputs": [
    {
     "name": "stdout",
     "output_type": "stream",
     "text": [
      "hi\n"
     ]
    },
    {
     "data": {
      "text/plain": [
       "<Figure size 800x800 with 1 Axes>"
      ],
      "image/png": "[encoded data removed]"
     },
     "metadata": {},
     "output_type": "display_data"
    }
   ],
   "execution_count": 5
  }
 ],
 "metadata": {
  "kernelspec": {
   "display_name": "Python 3",
   "language": "python",
   "name": "python3"
  },
  "language_info": {
   "codemirror_mode": {
    "name": "ipython",
    "version": 2
   },
   "file_extension": ".py",
   "mimetype": "text/x-python",
   "name": "python",
   "nbconvert_exporter": "python",
   "pygments_lexer": "ipython2",
   "version": "2.7.6"
  }
 },
 "nbformat": 4,
 "nbformat_minor": 5
}
